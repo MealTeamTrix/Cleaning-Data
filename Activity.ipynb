{
 "cells": [
  {
   "cell_type": "code",
   "execution_count": 2,
   "id": "744846ba",
   "metadata": {},
   "outputs": [],
   "source": [
    "# Import libraries\n",
    "import pandas as pd\n",
    "import numpy as np"
   ]
  },
  {
   "cell_type": "code",
   "execution_count": 4,
   "id": "99a44314",
   "metadata": {},
   "outputs": [
    {
     "data": {
      "text/html": [
       "<div>\n",
       "<style scoped>\n",
       "    .dataframe tbody tr th:only-of-type {\n",
       "        vertical-align: middle;\n",
       "    }\n",
       "\n",
       "    .dataframe tbody tr th {\n",
       "        vertical-align: top;\n",
       "    }\n",
       "\n",
       "    .dataframe thead th {\n",
       "        text-align: right;\n",
       "    }\n",
       "</style>\n",
       "<table border=\"1\" class=\"dataframe\">\n",
       "  <thead>\n",
       "    <tr style=\"text-align: right;\">\n",
       "      <th></th>\n",
       "      <th>client_id</th>\n",
       "      <th>age</th>\n",
       "      <th>job</th>\n",
       "      <th>marital</th>\n",
       "      <th>education</th>\n",
       "      <th>credit_default</th>\n",
       "      <th>mortgage</th>\n",
       "      <th>month</th>\n",
       "      <th>day</th>\n",
       "      <th>contact_duration</th>\n",
       "      <th>number_contacts</th>\n",
       "      <th>previous_campaign_contacts</th>\n",
       "      <th>previous_outcome</th>\n",
       "      <th>cons_price_idx</th>\n",
       "      <th>euribor_three_months</th>\n",
       "      <th>campaign_outcome</th>\n",
       "    </tr>\n",
       "  </thead>\n",
       "  <tbody>\n",
       "    <tr>\n",
       "      <th>0</th>\n",
       "      <td>0</td>\n",
       "      <td>56</td>\n",
       "      <td>housemaid</td>\n",
       "      <td>married</td>\n",
       "      <td>basic.4y</td>\n",
       "      <td>no</td>\n",
       "      <td>no</td>\n",
       "      <td>may</td>\n",
       "      <td>13</td>\n",
       "      <td>261</td>\n",
       "      <td>1</td>\n",
       "      <td>0</td>\n",
       "      <td>nonexistent</td>\n",
       "      <td>93.994</td>\n",
       "      <td>4.857</td>\n",
       "      <td>no</td>\n",
       "    </tr>\n",
       "    <tr>\n",
       "      <th>1</th>\n",
       "      <td>1</td>\n",
       "      <td>57</td>\n",
       "      <td>services</td>\n",
       "      <td>married</td>\n",
       "      <td>high.school</td>\n",
       "      <td>unknown</td>\n",
       "      <td>no</td>\n",
       "      <td>may</td>\n",
       "      <td>19</td>\n",
       "      <td>149</td>\n",
       "      <td>1</td>\n",
       "      <td>0</td>\n",
       "      <td>nonexistent</td>\n",
       "      <td>93.994</td>\n",
       "      <td>4.857</td>\n",
       "      <td>no</td>\n",
       "    </tr>\n",
       "    <tr>\n",
       "      <th>2</th>\n",
       "      <td>2</td>\n",
       "      <td>37</td>\n",
       "      <td>services</td>\n",
       "      <td>married</td>\n",
       "      <td>high.school</td>\n",
       "      <td>no</td>\n",
       "      <td>yes</td>\n",
       "      <td>may</td>\n",
       "      <td>23</td>\n",
       "      <td>226</td>\n",
       "      <td>1</td>\n",
       "      <td>0</td>\n",
       "      <td>nonexistent</td>\n",
       "      <td>93.994</td>\n",
       "      <td>4.857</td>\n",
       "      <td>no</td>\n",
       "    </tr>\n",
       "    <tr>\n",
       "      <th>3</th>\n",
       "      <td>3</td>\n",
       "      <td>40</td>\n",
       "      <td>admin.</td>\n",
       "      <td>married</td>\n",
       "      <td>basic.6y</td>\n",
       "      <td>no</td>\n",
       "      <td>no</td>\n",
       "      <td>may</td>\n",
       "      <td>27</td>\n",
       "      <td>151</td>\n",
       "      <td>1</td>\n",
       "      <td>0</td>\n",
       "      <td>nonexistent</td>\n",
       "      <td>93.994</td>\n",
       "      <td>4.857</td>\n",
       "      <td>no</td>\n",
       "    </tr>\n",
       "    <tr>\n",
       "      <th>4</th>\n",
       "      <td>4</td>\n",
       "      <td>56</td>\n",
       "      <td>services</td>\n",
       "      <td>married</td>\n",
       "      <td>high.school</td>\n",
       "      <td>no</td>\n",
       "      <td>no</td>\n",
       "      <td>may</td>\n",
       "      <td>3</td>\n",
       "      <td>307</td>\n",
       "      <td>1</td>\n",
       "      <td>0</td>\n",
       "      <td>nonexistent</td>\n",
       "      <td>93.994</td>\n",
       "      <td>4.857</td>\n",
       "      <td>no</td>\n",
       "    </tr>\n",
       "  </tbody>\n",
       "</table>\n",
       "</div>"
      ],
      "text/plain": [
       "   client_id  age        job  marital    education credit_default mortgage  \\\n",
       "0          0   56  housemaid  married     basic.4y             no       no   \n",
       "1          1   57   services  married  high.school        unknown       no   \n",
       "2          2   37   services  married  high.school             no      yes   \n",
       "3          3   40     admin.  married     basic.6y             no       no   \n",
       "4          4   56   services  married  high.school             no       no   \n",
       "\n",
       "  month  day  contact_duration  number_contacts  previous_campaign_contacts  \\\n",
       "0   may   13               261                1                           0   \n",
       "1   may   19               149                1                           0   \n",
       "2   may   23               226                1                           0   \n",
       "3   may   27               151                1                           0   \n",
       "4   may    3               307                1                           0   \n",
       "\n",
       "  previous_outcome  cons_price_idx  euribor_three_months campaign_outcome  \n",
       "0      nonexistent          93.994                 4.857               no  \n",
       "1      nonexistent          93.994                 4.857               no  \n",
       "2      nonexistent          93.994                 4.857               no  \n",
       "3      nonexistent          93.994                 4.857               no  \n",
       "4      nonexistent          93.994                 4.857               no  "
      ]
     },
     "execution_count": 4,
     "metadata": {},
     "output_type": "execute_result"
    }
   ],
   "source": [
    "# Read in the data\n",
    "df = pd.read_csv('data/bank_marketing.csv')\n",
    "\n",
    "# View the data\n",
    "df.head()"
   ]
  },
  {
   "cell_type": "code",
   "execution_count": 6,
   "id": "aa00b6c0",
   "metadata": {},
   "outputs": [
    {
     "data": {
      "text/plain": [
       "client_id                       int64\n",
       "age                             int64\n",
       "job                            object\n",
       "marital                        object\n",
       "education                      object\n",
       "credit_default                 object\n",
       "mortgage                       object\n",
       "month                          object\n",
       "day                             int64\n",
       "contact_duration                int64\n",
       "number_contacts                 int64\n",
       "previous_campaign_contacts      int64\n",
       "previous_outcome               object\n",
       "cons_price_idx                float64\n",
       "euribor_three_months          float64\n",
       "campaign_outcome               object\n",
       "dtype: object"
      ]
     },
     "execution_count": 6,
     "metadata": {},
     "output_type": "execute_result"
    }
   ],
   "source": [
    "# View the data types\n",
    "df.dtypes"
   ]
  },
  {
   "cell_type": "code",
   "execution_count": 7,
   "id": "90a84eea",
   "metadata": {},
   "outputs": [
    {
     "data": {
      "text/plain": [
       "client_id                     0\n",
       "age                           0\n",
       "job                           0\n",
       "marital                       0\n",
       "education                     0\n",
       "credit_default                0\n",
       "mortgage                      0\n",
       "month                         0\n",
       "day                           0\n",
       "contact_duration              0\n",
       "number_contacts               0\n",
       "previous_campaign_contacts    0\n",
       "previous_outcome              0\n",
       "cons_price_idx                0\n",
       "euribor_three_months          0\n",
       "campaign_outcome              0\n",
       "dtype: int64"
      ]
     },
     "execution_count": 7,
     "metadata": {},
     "output_type": "execute_result"
    }
   ],
   "source": [
    "# Check for missing values\n",
    "df.isnull().sum()"
   ]
  },
  {
   "cell_type": "code",
   "execution_count": 8,
   "id": "1de53635",
   "metadata": {},
   "outputs": [
    {
     "data": {
      "text/plain": [
       "np.int64(0)"
      ]
     },
     "execution_count": 8,
     "metadata": {},
     "output_type": "execute_result"
    }
   ],
   "source": [
    "# Check for duplicates\n",
    "df.duplicated().sum()"
   ]
  },
  {
   "cell_type": "code",
   "execution_count": 5,
   "id": "5c2280a3",
   "metadata": {},
   "outputs": [],
   "source": [
    "# Split data into tables\n",
    "client = df[['client_id', 'age', 'job', 'marital', 'education', 'credit_default','mortgage']]\n",
    "campaign = df[['client_id', 'number_contacts', 'month', 'day']]\n",
    "economics = df[['client_id', 'cons_price_idx', 'euribor_three_months']]"
   ]
  },
  {
   "cell_type": "code",
   "execution_count": 11,
   "id": "602ba67f",
   "metadata": {},
   "outputs": [
    {
     "name": "stderr",
     "output_type": "stream",
     "text": [
      "/tmp/ipykernel_42508/4078450376.py:2: SettingWithCopyWarning: \n",
      "A value is trying to be set on a copy of a slice from a DataFrame.\n",
      "Try using .loc[row_indexer,col_indexer] = value instead\n",
      "\n",
      "See the caveats in the documentation: https://pandas.pydata.org/pandas-docs/stable/user_guide/indexing.html#returning-a-view-versus-a-copy\n",
      "  client['education'] = client['education'].str.replace(\".\", \"_\")\n",
      "/tmp/ipykernel_42508/4078450376.py:3: SettingWithCopyWarning: \n",
      "A value is trying to be set on a copy of a slice from a DataFrame.\n",
      "Try using .loc[row_indexer,col_indexer] = value instead\n",
      "\n",
      "See the caveats in the documentation: https://pandas.pydata.org/pandas-docs/stable/user_guide/indexing.html#returning-a-view-versus-a-copy\n",
      "  client['education'] = client['education'].replace(\"unknown\", np.nan)\n",
      "/tmp/ipykernel_42508/4078450376.py:5: SettingWithCopyWarning: \n",
      "A value is trying to be set on a copy of a slice from a DataFrame.\n",
      "Try using .loc[row_indexer,col_indexer] = value instead\n",
      "\n",
      "See the caveats in the documentation: https://pandas.pydata.org/pandas-docs/stable/user_guide/indexing.html#returning-a-view-versus-a-copy\n",
      "  client['job'] = client['job'].str.replace(\".\", \"_\")\n"
     ]
    }
   ],
   "source": [
    "# Clean the education column\n",
    "client['education'] = client['education'].str.replace(\".\", \"_\")\n",
    "client['education'] = client['education'].replace(\"unknown\", np.nan)\n",
    "# Clean the job column\n",
    "client['job'] = client['job'].str.replace(\".\", \"_\")"
   ]
  },
  {
   "cell_type": "code",
   "execution_count": 12,
   "id": "e33f66ca",
   "metadata": {},
   "outputs": [
    {
     "name": "stderr",
     "output_type": "stream",
     "text": [
      "/tmp/ipykernel_42508/641644530.py:3: SettingWithCopyWarning: \n",
      "A value is trying to be set on a copy of a slice from a DataFrame.\n",
      "Try using .loc[row_indexer,col_indexer] = value instead\n",
      "\n",
      "See the caveats in the documentation: https://pandas.pydata.org/pandas-docs/stable/user_guide/indexing.html#returning-a-view-versus-a-copy\n",
      "  client[col]= client[col].map({'yes': 1, 'no': 0, 'unknown': 0})\n",
      "/tmp/ipykernel_42508/641644530.py:4: SettingWithCopyWarning: \n",
      "A value is trying to be set on a copy of a slice from a DataFrame.\n",
      "Try using .loc[row_indexer,col_indexer] = value instead\n",
      "\n",
      "See the caveats in the documentation: https://pandas.pydata.org/pandas-docs/stable/user_guide/indexing.html#returning-a-view-versus-a-copy\n",
      "  client[col] = client[col].astype(bool)\n",
      "/tmp/ipykernel_42508/641644530.py:3: SettingWithCopyWarning: \n",
      "A value is trying to be set on a copy of a slice from a DataFrame.\n",
      "Try using .loc[row_indexer,col_indexer] = value instead\n",
      "\n",
      "See the caveats in the documentation: https://pandas.pydata.org/pandas-docs/stable/user_guide/indexing.html#returning-a-view-versus-a-copy\n",
      "  client[col]= client[col].map({'yes': 1, 'no': 0, 'unknown': 0})\n",
      "/tmp/ipykernel_42508/641644530.py:4: SettingWithCopyWarning: \n",
      "A value is trying to be set on a copy of a slice from a DataFrame.\n",
      "Try using .loc[row_indexer,col_indexer] = value instead\n",
      "\n",
      "See the caveats in the documentation: https://pandas.pydata.org/pandas-docs/stable/user_guide/indexing.html#returning-a-view-versus-a-copy\n",
      "  client[col] = client[col].astype(bool)\n"
     ]
    }
   ],
   "source": [
    "# Clean and convert client columns to a boolean type\n",
    "for col in ['credit_default', 'mortgage']:\n",
    "    client[col]= client[col].map({'yes': 1, 'no': 0, 'unknown': 0})\n",
    "    client[col] = client[col].astype(bool)"
   ]
  }
 ],
 "metadata": {
  "kernelspec": {
   "display_name": "Python 3",
   "language": "python",
   "name": "python3"
  },
  "language_info": {
   "codemirror_mode": {
    "name": "ipython",
    "version": 3
   },
   "file_extension": ".py",
   "mimetype": "text/x-python",
   "name": "python",
   "nbconvert_exporter": "python",
   "pygments_lexer": "ipython3",
   "version": "3.10.12"
  }
 },
 "nbformat": 4,
 "nbformat_minor": 5
}
